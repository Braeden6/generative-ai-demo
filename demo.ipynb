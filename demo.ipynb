{
 "cells": [
  {
   "cell_type": "code",
   "execution_count": 2,
   "metadata": {},
   "outputs": [
    {
     "data": {
      "text/plain": [
       "True"
      ]
     },
     "execution_count": 2,
     "metadata": {},
     "output_type": "execute_result"
    }
   ],
   "source": [
    "import os\n",
    "from dotenv import load_dotenv\n",
    "import pickle\n",
    "from typing import Optional, Union\n",
    "import textwrap\n",
    "import requests\n",
    "import io\n",
    "\n",
    "from langchain.chat_models import ChatOpenAI\n",
    "from langchain.document_loaders import PyPDFLoader\n",
    "from langchain.text_splitter import RecursiveCharacterTextSplitter\n",
    "from langchain.vectorstores import FAISS\n",
    "from langchain.embeddings.openai import OpenAIEmbeddings\n",
    "from langchain.schema import SystemMessage \n",
    "from langchain.embeddings.base import Embeddings\n",
    "\n",
    "load_dotenv()"
   ]
  },
  {
   "cell_type": "code",
   "execution_count": 3,
   "metadata": {},
   "outputs": [
    {
     "name": "stdout",
     "output_type": "stream",
     "text": [
      "PDF already downloaded\n"
     ]
    }
   ],
   "source": [
    "def download_pdf(url):\n",
    "    try:\n",
    "        with requests.get(url, stream=True, timeout=5) as r:\n",
    "            r.raise_for_status()\n",
    "            file = io.BytesIO()\n",
    "            for chunk in r.iter_content(chunk_size=8192): \n",
    "                file.write(chunk)\n",
    "            file.seek(0)\n",
    "        return file\n",
    "    except:\n",
    "        print(\"Error downloading file\")\n",
    "        return None\n",
    "\n",
    "# Download the PDF file if it doesn't exist\n",
    "url = os.getenv(\"PDF_URL\")\n",
    "file_name = os.getcwd() + \"/pdfs/\" + str(os.getenv(\"PDF_FILE_NAME\")) + \".pdf\"\n",
    "if not os.path.exists(file_name):\n",
    "    print(\"Downloading PDF\")\n",
    "    file = download_pdf(url)\n",
    "    if file is not None:\n",
    "        with open(file_name, \"wb\") as f:\n",
    "            f.write(file.read())\n",
    "else:\n",
    "    print(\"PDF already downloaded\")\n"
   ]
  },
  {
   "cell_type": "code",
   "execution_count": 4,
   "metadata": {},
   "outputs": [
    {
     "name": "stdout",
     "output_type": "stream",
     "text": [
      "Loaded embeddings from file\n"
     ]
    }
   ],
   "source": [
    "def compute_embeddings(file_name: str, embeddings: Embeddings, chunk_size:int = 1000, chunk_overlap: int = 100) -> FAISS:\n",
    "    '''\n",
    "    Compute embeddings for a PDF file and save them to file\n",
    "    '''\n",
    "    loader = PyPDFLoader(os.getcwd() + \"/pdfs/\" + file_name + \".pdf\")\n",
    "    doc = loader.load()\n",
    "\n",
    "    text_splitter = RecursiveCharacterTextSplitter(chunk_size=chunk_size, chunk_overlap=chunk_overlap)\n",
    "    docs = text_splitter.split_documents(doc)\n",
    "\n",
    "    print(f\"Number of documents: {len(docs)}\")\n",
    "\n",
    "    # Compute embeddings\n",
    "    docsearch = FAISS.from_documents(docs, embeddings)\n",
    "    # Save embeddings to file\n",
    "    full_path_embeddings = os.getcwd() + \"/embeddings/\" + file_name + \".pkl\"\n",
    "    with open(full_path_embeddings, 'wb') as f:\n",
    "        pickle.dump(docsearch, f)\n",
    "    print(\"Embeddings computed and saved to file\")\n",
    "    return docsearch\n",
    "\n",
    "def load_saved_embeddings(file_name: str) -> Union[FAISS, None]:\n",
    "    '''\n",
    "    Load embeddings from file if they exist, \n",
    "    otherwise return None\n",
    "    '''\n",
    "    full_path_embeddings = os.getcwd() + \"/embeddings/\" + file_name + \".pkl\"\n",
    "    if os.path.exists(full_path_embeddings):\n",
    "        try:\n",
    "            with open(full_path_embeddings, 'rb') as f:\n",
    "                docsearch = pickle.load(f)\n",
    "            print(\"Loaded embeddings from file\")\n",
    "            return docsearch\n",
    "        except:\n",
    "            print(\"Failed to load embeddings from file\")\n",
    "            return None\n",
    "    else:\n",
    "        print(\"No embeddings file found.\")\n",
    "        return None\n",
    "\n",
    "\n",
    "# Compute or load embeddings\n",
    "embeddings = OpenAIEmbeddings() # type: ignore\n",
    "docsearch = load_saved_embeddings(\"harry_potter\")\n",
    "if docsearch is None:\n",
    "    docsearch = compute_embeddings(\"harry_potter\", embeddings, chunk_size=1000, chunk_overlap=100)\n"
   ]
  },
  {
   "cell_type": "code",
   "execution_count": 5,
   "metadata": {},
   "outputs": [],
   "source": [
    "async def answer_question(question: str, chat: ChatOpenAI, \n",
    "                          relevant_information: Optional[str] = None, \n",
    "                          docsearch: Optional[FAISS] = None, \n",
    "                          similar_doc_count: int = 10) -> str:\n",
    "    \n",
    "    # Notifying user that given relevant information will be used\n",
    "    if relevant_information is not None:\n",
    "        print(\"Using provided relevant information instead of embeddings\")\n",
    "\n",
    "    # Use embeddings to find relevant information if relevant information is not provided\n",
    "    elif docsearch is not None:\n",
    "        print(\"Using provided embeddings to find relevant information\")\n",
    "        similar_docs = await docsearch.asimilarity_search(question, k=similar_doc_count)\n",
    "        relevant_information = \"\\n\".join([doc.page_content for doc in similar_docs])\n",
    "\n",
    "    # Relevant information is not provided, then raise error\n",
    "    if relevant_information is None:\n",
    "        raise ValueError(\"No relevant information generated. Either provide relevant information or docsearch (FAISS object)\")\n",
    "\n",
    "    print(f\"Relevant information length: {len(relevant_information)}\")\n",
    "\n",
    "    PROMPT = f\"\"\"\n",
    "You will answer a question based of the given information below. If the relevant information\n",
    "does not answer the question, then answer only Can not answer from provided text.\n",
    "\n",
    "Question: {question}\n",
    "\n",
    "Relevant Information: {relevant_information} \n",
    "\"\"\"\n",
    "\n",
    "    answer = chat([SystemMessage(content=PROMPT)])\n",
    "    return answer.content\n"
   ]
  },
  {
   "cell_type": "code",
   "execution_count": 6,
   "metadata": {},
   "outputs": [],
   "source": [
    "# MODEL = \"gpt-3.5-turbo\"\n",
    "MODEL = \"gpt-4\"\n",
    "chat = ChatOpenAI(temperature=0, model_name=MODEL) # type: ignore"
   ]
  },
  {
   "cell_type": "code",
   "execution_count": 39,
   "metadata": {},
   "outputs": [
    {
     "name": "stdout",
     "output_type": "stream",
     "text": [
      "Using provided relevant information instead of embeddings\n",
      "Relevant information length: 62\n",
      "\n",
      "\n",
      "Answer: The name of the main character in Harry Potter is\n",
      "Harry Potter.\n"
     ]
    }
   ],
   "source": [
    "QUESTION = \"What is the name of the main character in Harry Potter?\"\n",
    "relevant_text = \"Harry Potter is the main character of the Harry Potter series.\"\n",
    "answer = await answer_question(QUESTION, chat, relevant_information=relevant_text, docsearch=docsearch, similar_doc_count=10)\n",
    "print(f\"\\n\\nAnswer: {textwrap.fill(answer, 50)}\")"
   ]
  },
  {
   "cell_type": "code",
   "execution_count": 40,
   "metadata": {},
   "outputs": [
    {
     "name": "stdout",
     "output_type": "stream",
     "text": [
      "Using provided relevant information instead of embeddings\n",
      "Relevant information length: 15\n",
      "\n",
      "\n",
      "Answer: Cannot answer from provided text.\n"
     ]
    }
   ],
   "source": [
    "QUESTION = \"What is the name of the main character in Harry Potter?\"\n",
    "irrelevant_text = \"This is a test.\"\n",
    "answer = await answer_question(QUESTION, chat, relevant_information=irrelevant_text, docsearch=docsearch, similar_doc_count=10)\n",
    "print(f\"\\n\\nAnswer: {textwrap.fill(answer, 50)}\")"
   ]
  },
  {
   "cell_type": "code",
   "execution_count": 43,
   "metadata": {},
   "outputs": [
    {
     "name": "stdout",
     "output_type": "stream",
     "text": [
      "Using provided embeddings to find relevant information\n",
      "Relevant information length: 8615\n",
      "\n",
      "\n",
      "Answer: I cannot answer from the provided text.\n"
     ]
    }
   ],
   "source": [
    "QUESTION = \"Can you tell me all the horcruxes from Harry Potter?\"\n",
    "answer = await answer_question(QUESTION, chat, docsearch=docsearch, similar_doc_count=10)\n",
    "print(f\"\\n\\nAnswer: {textwrap.fill(answer, 50)}\")\n"
   ]
  },
  {
   "cell_type": "code",
   "execution_count": 44,
   "metadata": {},
   "outputs": [
    {
     "name": "stdout",
     "output_type": "stream",
     "text": [
      "Using provided embeddings to find relevant information\n",
      "Relevant information length: 9625\n",
      "\n",
      "\n",
      "Answer: Some of the Horcruxes include Tom Riddle's diary,\n",
      "which was proof that he was the Heir of Slytherin,\n",
      "a locket that belonged to Hufflepuff, and a ring.\n",
      "It is also believed that Voldemort may have used\n",
      "the snake, Nagini, as a Horcrux. Dumbledore\n",
      "destroyed the ring, and Harry destroyed the diary.\n",
      "There are a total of six Horcruxes, with the\n",
      "seventh part of Voldemort's soul residing in his\n",
      "regenerated body.\n"
     ]
    }
   ],
   "source": [
    "QUESTION = \"Can you tell about some of the horcruxes?\"\n",
    "answer = await answer_question(QUESTION, chat, docsearch=docsearch, similar_doc_count=10)\n",
    "print(f\"\\n\\nAnswer: {textwrap.fill(answer, 50)}\")"
   ]
  },
  {
   "cell_type": "code",
   "execution_count": 45,
   "metadata": {},
   "outputs": [
    {
     "name": "stdout",
     "output_type": "stream",
     "text": [
      "Using provided embeddings to find relevant information\n",
      "Relevant information length: 8451\n",
      "\n",
      "\n",
      "Answer: Some things that happen to the flying car include:\n",
      "skimming the sea of fluffy clouds, traveling past\n",
      "swirls and turrets of snowy clouds, making regular\n",
      "checks on the train as they flew farther north,\n",
      "having a faulty Invisibility Booster, losing\n",
      "altitude and nearly crashing into a castle wall,\n",
      "and eventually stopping suddenly at the edge of a\n",
      "forest.\n"
     ]
    }
   ],
   "source": [
    "QUESTION = \"can you give me all the things that happen to the flying car\"\n",
    "answer = await answer_question(QUESTION, chat, docsearch=docsearch, similar_doc_count=10)\n",
    "print(f\"\\n\\nAnswer: {textwrap.fill(answer, 50)}\")"
   ]
  }
 ],
 "metadata": {
  "kernelspec": {
   "display_name": ".venv",
   "language": "python",
   "name": "python3"
  },
  "language_info": {
   "codemirror_mode": {
    "name": "ipython",
    "version": 3
   },
   "file_extension": ".py",
   "mimetype": "text/x-python",
   "name": "python",
   "nbconvert_exporter": "python",
   "pygments_lexer": "ipython3",
   "version": "3.9.6"
  },
  "orig_nbformat": 4
 },
 "nbformat": 4,
 "nbformat_minor": 2
}
