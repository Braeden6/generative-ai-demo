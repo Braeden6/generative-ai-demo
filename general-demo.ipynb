{
 "cells": [
  {
   "cell_type": "code",
   "execution_count": null,
   "metadata": {},
   "outputs": [],
   "source": [
    "from dotenv import load_dotenv\n",
    "load_dotenv()\n",
    "import os\n",
    "import textwrap\n",
    "\n",
    "from langchain.llms import OpenAI\n",
    "MODEL = \"text-davinci-003\"\n",
    "llm = OpenAI(temperature=0, model_name=MODEL)"
   ]
  },
  {
   "cell_type": "code",
   "execution_count": null,
   "metadata": {},
   "outputs": [],
   "source": [
    "# PromptTemplate\n",
    "from langchain import PromptTemplate\n",
    "simple_answer_prompt = PromptTemplate.from_template(\"\"\"\n",
    "Answer the question below. Some information is provided. \n",
    "\n",
    "Question: {question}\n",
    "\n",
    "Relevant Information: {relevant_information}\n",
    "\"\"\")\n",
    "\n",
    "final_prompt = simple_answer_prompt.format(question=\"What is the capital of France?\", relevant_information=\"France is a country in Europe.\")\n",
    "\n",
    "print(final_prompt)\n",
    "print(\"--------------------------------------------------\")\n",
    "print(llm(final_prompt))"
   ]
  },
  {
   "cell_type": "code",
   "execution_count": null,
   "metadata": {},
   "outputs": [],
   "source": [
    "# chat\n",
    "from langchain.memory import ChatMessageHistory\n",
    "from langchain.chat_models import ChatOpenAI\n",
    "\n",
    "MODEL = \"gpt-3.5-turbo\"\n",
    "\n",
    "chat = ChatOpenAI(temperature=0, model_name=MODEL)\n",
    "history = ChatMessageHistory()\n",
    "\n",
    "QUESTION = \"Who holds the record in 400-meter individual medley?\"\n",
    "print(f\"Question: {textwrap.fill(QUESTION, 50)}\")\n",
    "history.add_user_message(QUESTION)\n",
    "\n",
    "response = chat(history.messages)\n",
    "\n",
    "print(f\"Answer: {textwrap.fill(response.content, 50)}\")\n",
    "history.add_ai_message(response.content)\n",
    "\n",
    "print('\\n\\n')\n",
    "QUESTION = \"But I recently read Leon Marchand got 4:02.50 in 400-meter individual medley\"\n",
    "print(f\"Question: {textwrap.fill(QUESTION, 50)}\")\n",
    "history.add_user_message(QUESTION)\n",
    "\n",
    "response = chat(history.messages)\n",
    "print(f\"Answer: {textwrap.fill(response.content, 50)}\")\n"
   ]
  },
  {
   "cell_type": "code",
   "execution_count": null,
   "metadata": {},
   "outputs": [],
   "source": [
    "# chains\n",
    "from download_pdf import download_pdf\n",
    "from langchain.document_loaders import PyPDFLoader\n",
    "from langchain.text_splitter import RecursiveCharacterTextSplitter\n",
    "from langchain.chains.summarize import load_summarize_chain\n",
    "file_name = os.getcwd() + \"/pdfs/\" + os.getenv(\"SUMMARIZE_FILE_NAME\")\n",
    "download_pdf(os.getenv(\"SUMMARIZE_FILE_URL\"), file_name)\n",
    "\n",
    "\n",
    "\n",
    "loader = PyPDFLoader(file_name)\n",
    "documents = loader.load()\n",
    "text_splitter = RecursiveCharacterTextSplitter(chunk_size=700, chunk_overlap=50)\n",
    "texts = text_splitter.split_documents(documents)\n",
    "chain = load_summarize_chain(llm, chain_type=\"map_reduce\", verbose=True)\n",
    "print(textwrap.fill(chain.run(texts), 50))\n",
    "\n"
   ]
  },
  {
   "cell_type": "code",
   "execution_count": null,
   "metadata": {},
   "outputs": [],
   "source": [
    "# agents\n",
    "from langchain.agents import load_tools\n",
    "from langchain.agents import initialize_agent\n",
    "from langchain.agents import Tool\n",
    "\n",
    "def substract_tool(input):\n",
    "    x, y = input.split(\"-\")\n",
    "    return str(int(x) - int(y))\n",
    "\n",
    "toolkit = load_tools([\"ddg-search\"], llm=llm)\n",
    "toolkit.append(Tool(\n",
    "    name=\"substraction-tool\",\n",
    "    description=\"Substracts two numbers of the form 'x-y' and returns the result.\",\n",
    "    func=substract_tool\n",
    "))\n",
    "\n",
    "agent = initialize_agent(toolkit, llm, agent=\"zero-shot-react-description\", verbose=True, return_intermediate_steps=True)\n",
    "response = agent({\"input\":\"what was the difference between the average temperature in vancouver canada summer vs winter\"})"
   ]
  }
 ],
 "metadata": {
  "kernelspec": {
   "display_name": ".venv",
   "language": "python",
   "name": "python3"
  },
  "language_info": {
   "codemirror_mode": {
    "name": "ipython",
    "version": 3
   },
   "file_extension": ".py",
   "mimetype": "text/x-python",
   "name": "python",
   "nbconvert_exporter": "python",
   "pygments_lexer": "ipython3",
   "version": "3.9.6"
  },
  "orig_nbformat": 4
 },
 "nbformat": 4,
 "nbformat_minor": 2
}
